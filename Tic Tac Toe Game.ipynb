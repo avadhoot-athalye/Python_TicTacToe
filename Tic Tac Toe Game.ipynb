{
 "cells": [
  {
   "attachments": {
    "Board.png": {
     "image/png": "[encoded data removed]"
    }
   },
   "cell_type": "markdown",
   "id": "f47410a8",
   "metadata": {},
   "source": [
    "# TIC TAC TOE Game\n",
    "\n",
    "This is a 2 player tic tac toe game\n",
    "\n",
    "User board and places are like below:\n",
    "\n",
    "![Board.png](attachment:Board.png)         "
   ]
  },
  {
   "cell_type": "code",
   "execution_count": null,
   "id": "46a79b09",
   "metadata": {},
   "outputs": [],
   "source": [
    "from IPython.display import clear_output\n",
    "\n",
    "# Function to display tic tac toe board\n",
    "def show_board():\n",
    "    \n",
    "    # Clear previous output before displaying board\n",
    "    clear_output()\n",
    "    print(\"               |               |               \")\n",
    "    print(f\"       {my_list[0]}       |       {my_list[1]}       |       {my_list[2]}       \")\n",
    "    print(\"               |               |               \")\n",
    "    print(\"---------------|---------------|----------------\")\n",
    "    print(\"               |               |               \")\n",
    "    print(f\"       {my_list[3]}       |       {my_list[4]}       |       {my_list[5]}       \")\n",
    "    print(\"               |               |               \")\n",
    "    print(\"---------------|---------------|----------------\")\n",
    "    print(\"               |               |               \")\n",
    "    print(f\"       {my_list[6]}       |       {my_list[7]}       |       {my_list[8]}       \")\n",
    "    print(\"               |               |               \")"
   ]
  },
  {
   "cell_type": "code",
   "execution_count": null,
   "id": "0973bb8d",
   "metadata": {},
   "outputs": [],
   "source": [
    "# Check if player has won\n",
    "\n",
    "def checkif_won(marker):\n",
    "\n",
    "    return ((my_list[0] == my_list[1] == my_list[2] == marker) or\n",
    "    (my_list[3] == my_list[4] == my_list[5] == marker) or\n",
    "    (my_list[6] == my_list[7] == my_list[8] == marker) or\n",
    "    (my_list[0] == my_list[3] == my_list[6] == marker) or\n",
    "    (my_list[1] == my_list[4] == my_list[7] == marker) or\n",
    "    (my_list[2] == my_list[5] == my_list[8] == marker) or\n",
    "    (my_list[0] == my_list[4] == my_list[8] == marker) or\n",
    "    (my_list[2] == my_list[4] == my_list[6] == marker))"
   ]
  },
  {
   "cell_type": "code",
   "execution_count": null,
   "id": "d89e6e08",
   "metadata": {},
   "outputs": [],
   "source": [
    "# Function that asks user to select mark X or O and returns dictionary\n",
    "def select_marks():\n",
    "    \n",
    "    p1mark = ''\n",
    "    while p1mark not in ['X','O']:\n",
    "        p1mark = input(\"Please select a mark for Player 1 ('X' or 'O'): \").upper()\n",
    "        \n",
    "        if p1mark not in ['X','O']:\n",
    "            print(\"Invalid input!\")\n",
    "        \n",
    "    if p1mark == 'X':\n",
    "        p2mark = 'O'\n",
    "    else:\n",
    "        p2mark = 'X'\n",
    "    \n",
    "    print(f\" Player 1's mark {p1mark}\")\n",
    "    print(f\" Player 2's mark {p2mark}\")\n",
    "    \n",
    "    return {'Player 1': p1mark, 'Player 2': p2mark}"
   ]
  },
  {
   "cell_type": "code",
   "execution_count": null,
   "id": "7c09220d",
   "metadata": {},
   "outputs": [],
   "source": [
    "# Check if given position is available\n",
    "def available(num):\n",
    "    return my_list[num] == ' '"
   ]
  },
  {
   "cell_type": "code",
   "execution_count": null,
   "id": "263b6dbe",
   "metadata": {},
   "outputs": [],
   "source": [
    "# Function that places mark on the board\n",
    "def place_the_mark(mark, place):\n",
    "    my_list[place] = mark\n",
    "    show_board()"
   ]
  },
  {
   "cell_type": "code",
   "execution_count": null,
   "id": "2f2253c1",
   "metadata": {},
   "outputs": [],
   "source": [
    "# Function that takes user input to place the user's mark\n",
    "def take_user_input(player_name):\n",
    "    position = 0\n",
    "    while True:\n",
    "            position = input(f\"{player_name} - Please select a field to mark between 1 to 9:\\t\")\n",
    "\n",
    "            if position.isdigit() and (0 < int(position) < 10):\n",
    "                if not available(int(position)-1):\n",
    "                    print('Please select between available fields only')\n",
    "                else:\n",
    "                    break\n",
    "            else:\n",
    "                print('Invalid input!')\n",
    "    return int(position)"
   ]
  },
  {
   "cell_type": "code",
   "execution_count": null,
   "id": "fd90a898",
   "metadata": {},
   "outputs": [],
   "source": [
    "# Function to check if game is tied\n",
    "def check_if_tie():\n",
    "    return ' ' not in my_list"
   ]
  },
  {
   "cell_type": "code",
   "execution_count": null,
   "id": "62b12b98",
   "metadata": {},
   "outputs": [],
   "source": [
    "# Function that checks whether game needs to be replayed and return bool value\n",
    "\n",
    "def replay():\n",
    "    option = ''\n",
    "    while option not in ['Y','N']:\n",
    "        option = input('Would you like to start next round? (Y/N) \\t').upper()\n",
    "        if option not in ['Y','N']:\n",
    "            print('Invalid Response!')\n",
    "    return option == 'Y'"
   ]
  },
  {
   "cell_type": "code",
   "execution_count": null,
   "id": "2c01cd27",
   "metadata": {},
   "outputs": [],
   "source": [
    "# Actual gameplay logic\n",
    "while True:\n",
    "    \n",
    "    # Set the board\n",
    "    my_list = [' ']*9\n",
    "    \n",
    "    # Take user selected marks\n",
    "    marks = select_marks()\n",
    "    players = list(marks.keys())\n",
    "    \n",
    "    # Execute for each round of game till a game is completed\n",
    "    while True:\n",
    "        \n",
    "        show_board()\n",
    "        \n",
    "        # Take user input from Player 1\n",
    "        user_input = take_user_input(players[0])\n",
    "        \n",
    "        # Place the mark on the board\n",
    "        place_the_mark(marks[players[0]],user_input-1)\n",
    "        \n",
    "        # Check if PLayer 1 has won\n",
    "        if checkif_won(marks[players[0]]):\n",
    "            print('Player 1 has won!!')\n",
    "            break\n",
    "        elif check_if_tie():\n",
    "            print(\"It's a tie!!\")\n",
    "            break\n",
    "        \n",
    "         # Take user input from Player 2\n",
    "        user_input = take_user_input(players[1])\n",
    "        \n",
    "        # Place the mark on the board\n",
    "        place_the_mark(marks[players[1]],user_input-1)\n",
    "        \n",
    "        # Check if PLayer 2 has won\n",
    "        if checkif_won(marks[players[1]]):\n",
    "            print('Player 2 has won!!')\n",
    "            break\n",
    "        elif check_if_tie():\n",
    "            print(\"It's a tie!!\")\n",
    "            break\n",
    "    \n",
    "    if not replay():\n",
    "        break;\n"
   ]
  },
  {
   "cell_type": "code",
   "execution_count": null,
   "id": "2839710c",
   "metadata": {},
   "outputs": [],
   "source": []
  },
  {
   "cell_type": "code",
   "execution_count": null,
   "id": "e00c24b7",
   "metadata": {},
   "outputs": [],
   "source": []
  }
 ],
 "metadata": {
  "kernelspec": {
   "display_name": "Python 3",
   "language": "python",
   "name": "python3"
  },
  "language_info": {
   "codemirror_mode": {
    "name": "ipython",
    "version": 3
   },
   "file_extension": ".py",
   "mimetype": "text/x-python",
   "name": "python",
   "nbconvert_exporter": "python",
   "pygments_lexer": "ipython3",
   "version": "3.8.8"
  }
 },
 "nbformat": 4,
 "nbformat_minor": 5
}
